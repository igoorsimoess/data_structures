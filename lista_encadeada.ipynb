{
 "cells": [
  {
   "attachments": {},
   "cell_type": "markdown",
   "metadata": {},
   "source": [
    "### Lista Encadeada\n",
    "#### Aluno: Igor Gabriel Santos Simões\n",
    "#### Matrícula: 20220024150"
   ]
  },
  {
   "cell_type": "code",
   "execution_count": 2,
   "metadata": {},
   "outputs": [],
   "source": [
    "# Criation of Node structure needed for linked list implementation\n",
    "class Node:\n",
    "    def __init__(self, data):\n",
    "        self.data = data\n",
    "        self.next = None"
   ]
  },
  {
   "cell_type": "code",
   "execution_count": 76,
   "metadata": {},
   "outputs": [],
   "source": [
    "class LinkedList:\n",
    "    \"\"\" Nodes sequence which points to the next node\"\"\"\n",
    "    def __init__(self) -> None: # creation of empty list\n",
    "        self.head = None\n",
    "        self._size = 0\n",
    "    \n",
    "    def append(self, elem):\n",
    "        \"\"\"Inserts an element in the end\"\"\"\n",
    "        # two cases: empty list and already filled list, then:\n",
    "        if self.head: # there's already an element inside\n",
    "            # iterate through the list till next attribute is empty\n",
    "            pointer = self.head\n",
    "            while(pointer.next): # while theres a next\n",
    "                pointer = pointer.next\n",
    "            pointer.next = Node(elem) # assigns new element to the next pointer\n",
    "\n",
    "        else: # empty list\n",
    "            self.head = Node(elem)\n",
    "        \n",
    "        self._size = self._size + 1\n",
    "\n",
    "    \n",
    "    def __len__(self):\n",
    "        \"\"\"Returns the size attribute of the linked list\"\"\"\n",
    "        return self._size\n",
    "\n",
    "    def __getitem__(self, index):\n",
    "        \"\"\"Returns the item element by index using python's [] syntax\"\"\"\n",
    "        # iterate through the list\n",
    "\n",
    "        pointer = self._get_node(index)\n",
    "        \n",
    "        if pointer:\n",
    "            return pointer.data # returns the element\n",
    "        raise IndexError(\"List Index Out of Range\")\n",
    "\n",
    "    def __setitem__(self, index, elem):\n",
    "        \"\"\"Modifies the item element by index using python's [] syntax\"\"\"\n",
    "\n",
    "        # iterate through the list\n",
    "\n",
    "        pointer = self._get_node(index)\n",
    "\n",
    "        if pointer:\n",
    "            pointer.data = elem # modifies the element \n",
    "        else:\n",
    "            raise IndexError(\"List Index Out of Range\")\n",
    "    \n",
    "    def _get_node(self, index):\n",
    "        \"\"\"returns the node of the given index\"\"\"\n",
    "        \n",
    "        pointer = self.head\n",
    "        for i in range(index - 1):\n",
    "            if pointer:\n",
    "                pointer = pointer.next\n",
    "            else:\n",
    "                raise IndexError(\"List Index Out of Range\") \n",
    "        return pointer\n",
    "        \n",
    "    def index(self, elem):\n",
    "        index += 1\n",
    "        \"\"\"Returns the element's index\"\"\"\n",
    "        pointer = self.head\n",
    "        i = 0\n",
    "        while(pointer):\n",
    "            if pointer.data == elem:\n",
    "                return i\n",
    "            pointer = pointer.next\n",
    "            i += 1\n",
    "                \n",
    "        raise ValueError(f'List does not contains {elem} item')\n",
    "\n",
    "\n",
    "\n",
    "    def insert(self, index, elem):\n",
    "        # insert in the list's head\n",
    "        index += 1\n",
    "        if index == 0:\n",
    "            node = Node(elem)\n",
    "            node.next = self.head\n",
    "            self.head = node\n",
    "\n",
    "        # from 2º position\n",
    "        else:\n",
    "            # iterate till the previous target element\n",
    "            pointer = self._get_node(index - 1)\n",
    "            node = Node(elem)\n",
    "            node.next = pointer.next\n",
    "            pointer.next = node \n",
    "        self._size += 1\n",
    "\n",
    "    def delete(self, index):\n",
    "        index += 1\n",
    "        elem = self.__getitem__(index)\n",
    "\n",
    "        if self.head == None:\n",
    "            raise ValueError(\"List does not contains {elem} item\")\n",
    "        if self.head.data == elem:\n",
    "            self.head = self.head.next\n",
    "        else:\n",
    "            ancestor = self.head\n",
    "            pointer = self.head.next\n",
    "\n",
    "            while(pointer):\n",
    "                if pointer.data == elem:\n",
    "                    pass\n",
    "                    ancestor.next = pointer.next\n",
    "                    pointer.next = None\n",
    "\n",
    "                pointer = pointer.next\n",
    "                ancestor = ancestor.next\n",
    "\n",
    "\n",
    "    def __repr__(self) -> str:\n",
    "        string = \"\"\n",
    "        pointer = self.head\n",
    "        while(pointer):\n",
    "            string = string + str(pointer.data) + '-'\n",
    "            pointer = pointer.next\n",
    "        return string\n",
    "        \n",
    "    def __str__(self) -> str:\n",
    "        return self.__repr__()"
   ]
  },
  {
   "cell_type": "markdown",
   "metadata": {},
   "source": [
    "### 1. Criação da lista vazia\n"
   ]
  },
  {
   "cell_type": "code",
   "execution_count": 77,
   "metadata": {},
   "outputs": [
    {
     "data": {
      "text/plain": []
     },
     "execution_count": 77,
     "metadata": {},
     "output_type": "execute_result"
    }
   ],
   "source": [
    "# creates a empty list and shows its memory address below\n",
    "list_test = LinkedList()\n",
    "list_test"
   ]
  },
  {
   "cell_type": "markdown",
   "metadata": {},
   "source": [
    "### 2. Verificar se a lista está vazia\n"
   ]
  },
  {
   "cell_type": "code",
   "execution_count": 78,
   "metadata": {},
   "outputs": [
    {
     "name": "stdout",
     "output_type": "stream",
     "text": [
      "List Size: 0\n"
     ]
    }
   ],
   "source": [
    "print(f'List Size: {list_test._size}')"
   ]
  },
  {
   "cell_type": "markdown",
   "metadata": {},
   "source": [
    "### 3. Obter o tamanho da lista\n"
   ]
  },
  {
   "cell_type": "code",
   "execution_count": 79,
   "metadata": {},
   "outputs": [
    {
     "name": "stdout",
     "output_type": "stream",
     "text": [
      "Current List Size: 2\n"
     ]
    }
   ],
   "source": [
    "list_test.append(2)\n",
    "list_test.insert(1, 3)\n",
    "print(f'Current List Size: {list_test._size}')"
   ]
  },
  {
   "attachments": {},
   "cell_type": "markdown",
   "metadata": {},
   "source": [
    "### 4. Obter/Modificar o valor do elemento de uma determinada posição na lista\n"
   ]
  },
  {
   "cell_type": "code",
   "execution_count": 80,
   "metadata": {},
   "outputs": [
    {
     "name": "stdout",
     "output_type": "stream",
     "text": [
      "3\n",
      "2-100-\n"
     ]
    }
   ],
   "source": [
    "print(list_test[2])\n",
    "list_test[2] = 100\n",
    "print(list_test)"
   ]
  },
  {
   "cell_type": "markdown",
   "metadata": {},
   "source": [
    "### 5. Inserir um elemento em uma determinada posição\n"
   ]
  },
  {
   "cell_type": "code",
   "execution_count": 81,
   "metadata": {},
   "outputs": [],
   "source": [
    "# inserts 3 in index 2\n",
    "list_test.insert(2, 3)"
   ]
  },
  {
   "cell_type": "markdown",
   "metadata": {},
   "source": [
    "### 6. Retirar um elemento de uma determinada posição \n"
   ]
  },
  {
   "cell_type": "code",
   "execution_count": 82,
   "metadata": {},
   "outputs": [],
   "source": [
    "list_test.delete(2)"
   ]
  },
  {
   "cell_type": "markdown",
   "metadata": {},
   "source": [
    "### 7. Imprimir os elementos de toda a lista"
   ]
  },
  {
   "cell_type": "code",
   "execution_count": 83,
   "metadata": {},
   "outputs": [
    {
     "name": "stdout",
     "output_type": "stream",
     "text": [
      "2-100-\n"
     ]
    }
   ],
   "source": [
    "print(list_test)"
   ]
  }
 ],
 "metadata": {
  "kernelspec": {
   "display_name": "Python 3",
   "language": "python",
   "name": "python3"
  },
  "language_info": {
   "codemirror_mode": {
    "name": "ipython",
    "version": 3
   },
   "file_extension": ".py",
   "mimetype": "text/x-python",
   "name": "python",
   "nbconvert_exporter": "python",
   "pygments_lexer": "ipython3",
   "version": "3.8.10"
  },
  "orig_nbformat": 4,
  "vscode": {
   "interpreter": {
    "hash": "31f2aee4e71d21fbe5cf8b01ff0e069b9275f58929596ceb00d14d90e3e16cd6"
   }
  }
 },
 "nbformat": 4,
 "nbformat_minor": 2
}
