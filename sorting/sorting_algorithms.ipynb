{
 "cells": [
  {
   "attachments": {},
   "cell_type": "markdown",
   "metadata": {},
   "source": [
    "### Implementação dos Algoritmos de ordenação: \n",
    "\n",
    "• SelectionSort \n",
    "\n",
    "• BubbleSort\n",
    "\n",
    "• InsertionSort\n",
    "\n",
    "• MergeSort\n",
    "\n",
    "• QuickSort"
   ]
  },
  {
   "cell_type": "markdown",
   "metadata": {},
   "source": [
    "#### Selection Sort"
   ]
  },
  {
   "cell_type": "code",
   "execution_count": 2,
   "metadata": {},
   "outputs": [],
   "source": [
    "def selection_sort(sorting_list):\n",
    "\n",
    "    for j in range(len(sorting_list)):\n",
    "\n",
    "        index_lower_value = j\n",
    "\n",
    "        # determine lower value index\n",
    "        for index in range(j, len(sorting_list)):\n",
    "            if sorting_list[index] < sorting_list[index_lower_value]:\n",
    "                index_lower_value = index\n",
    "\n",
    "        if sorting_list[j] > sorting_list[index_lower_value]:\n",
    "            aux = sorting_list[j]\n",
    "            # swap places \n",
    "            sorting_list[j] = sorting_list[index_lower_value]\n",
    "            sorting_list[index_lower_value] = aux\n",
    "\n",
    "    return sorting_list\n"
   ]
  },
  {
   "cell_type": "code",
   "execution_count": 3,
   "metadata": {},
   "outputs": [],
   "source": [
    "# compara elementos em posições consecutivas\n",
    "\n",
    "def bubble_sort(sorting_list):\n",
    "    list_size = len(sorting_list)\n",
    "\n",
    "    for j in range(list_size - 1):\n",
    "        for index in range(list_size - 1): # no need to go till the end\n",
    "            if sorting_list[index] > sorting_list[index + 1]: # compares if a value is greater than the other\n",
    "                # swap elements\n",
    "                sorting_list[index], sorting_list[index + 1] = sorting_list[index + 1], sorting_list[index]\n",
    "    return sorting_list"
   ]
  },
  {
   "cell_type": "code",
   "execution_count": 4,
   "metadata": {},
   "outputs": [],
   "source": [
    "def insertion_sort(sorting_list):\n",
    "    list_size = len(sorting_list)\n",
    "\n",
    "    for index in range(1, list_size):\n",
    "        element = sorting_list[index]\n",
    "\n",
    "        j = index - 1 # already sorted part of list\n",
    "        while j >= 0 and sorting_list[j] > element:\n",
    "            sorting_list[j + 1] = sorting_list[j]\n",
    "            j = j - 1\n",
    "        sorting_list[j + 1] = element\n",
    "    return sorting_list"
   ]
  },
  {
   "cell_type": "code",
   "execution_count": 5,
   "metadata": {},
   "outputs": [],
   "source": [
    "def merge_sort(sorting_list, beggining=0, end=None) -> list:\n",
    "    if end is None:\n",
    "        end = len(sorting_list)\n",
    "\n",
    "    if (end - beggining > 1):\n",
    "        mid = (end + beggining) // 2 \n",
    "        merge_sort(sorting_list, beggining, mid)\n",
    "        merge_sort(sorting_list, mid, end)\n",
    "        merge(sorting_list, beggining, mid, end)\n",
    "\n",
    "        return sorting_list\n",
    "\n",
    "def merge(sorting_list, beggining, mid, end):\n",
    "    left = sorting_list[beggining:mid]\n",
    "    right = sorting_list[mid:end]\n",
    "\n",
    "    # i, j, k -> Gerenciam, respectivamente, topo da sublista esquerda, topo da sublista direita e posições na lista ordenada \n",
    "    top_right, top_left = 0, 0\n",
    "    \n",
    "    for k in range(beggining, end):\n",
    "        if top_left >= len(left):\n",
    "            sorting_list[k] = right[top_right]\n",
    "            top_right += 1 \n",
    "\n",
    "        elif top_right >= len(right):\n",
    "            sorting_list[k] = left[top_left]\n",
    "            top_left += 1\n",
    "\n",
    "        elif left[top_left] < right[top_right]:\n",
    "            sorting_list[k] = left[top_left]\n",
    "            top_left += 1\n",
    "        else:\n",
    "            sorting_list[k] = right[top_right]\n",
    "            top_right += 1 \n"
   ]
  },
  {
   "cell_type": "code",
   "execution_count": 6,
   "metadata": {},
   "outputs": [],
   "source": [
    "def quicksort(sorting_list, beginning=0, end=None):\n",
    "    if end is None:\n",
    "        end = len(sorting_list) - 1\n",
    "\n",
    "    if beginning < end:\n",
    "        position = partition(sorting_list, beginning, end)\n",
    "        quicksort(sorting_list, beginning, position-1)\n",
    "        quicksort(sorting_list, position + 1, end)\n",
    "\n",
    "def partition(sorting_list, beginning, end):\n",
    "    pivot = sorting_list[end]\n",
    "    index = beginning\n",
    "    for j in range(beginning, end):\n",
    "        if sorting_list[j] <= pivot:\n",
    "            sorting_list[j], sorting_list[index] = sorting_list[index], sorting_list[j]\n",
    "            index += 1\n",
    "\n",
    "    sorting_list[index], sorting_list[end] = sorting_list[end], sorting_list[index]\n",
    "    return index\n",
    "\n",
    "\n",
    "     "
   ]
  }
 ],
 "metadata": {
  "kernelspec": {
   "display_name": "Python 3",
   "language": "python",
   "name": "python3"
  },
  "language_info": {
   "codemirror_mode": {
    "name": "ipython",
    "version": 3
   },
   "file_extension": ".py",
   "mimetype": "text/x-python",
   "name": "python",
   "nbconvert_exporter": "python",
   "pygments_lexer": "ipython3",
   "version": "3.10.4"
  },
  "orig_nbformat": 4
 },
 "nbformat": 4,
 "nbformat_minor": 2
}
