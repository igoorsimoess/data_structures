{
 "cells": [
  {
   "cell_type": "code",
   "execution_count": null,
   "metadata": {},
   "outputs": [],
   "source": [
    "# Criation of Node structure needed for linked list implementation\n",
    "class Node:\n",
    "    def __init__(self, data):\n",
    "        self.data = data\n",
    "        self.next = None\n"
   ]
  },
  {
   "cell_type": "code",
   "execution_count": null,
   "metadata": {},
   "outputs": [],
   "source": [
    "class Stack:\n",
    "    def __init__(self) -> None:  # creation of empty list\n",
    "        self.top = None\n",
    "        self._size = 0\n",
    "\n",
    "    def push(self, elem):\n",
    "        node = Node(elem)\n",
    "        # updates the pointer to the next element to recognizes the bottom element (if it's the first, it will point to None)\n",
    "        node.next = self.top\n",
    "        self.top = node  # now we can update the top of the list\n",
    "        self._size += 1\n",
    "\n",
    "    def pop(self):\n",
    "\n",
    "        # if the stack is empty:\n",
    "        if self._size > 0:\n",
    "            node = self.top\n",
    "            self.top = self.top.next  # updates top to be the previous element\n",
    "            self._size -= 1\n",
    "            return node\n",
    "        raise IndexError(\"Stack is empty\")\n",
    "\n",
    "    def pick(self):\n",
    "        # if the stack is empty:\n",
    "        if self._size > 0:\n",
    "            return self.top.data\n",
    "        raise IndexError(\"Stack is empty\")\n",
    "\n",
    "    def __len__(self):\n",
    "        \"\"\"Returns the size attribute of the linked list\"\"\"\n",
    "        return self._size\n",
    "\n",
    "    def __repr__(self) -> str:\n",
    "        string = \"\"\n",
    "        pointer = self.top\n",
    "        while(pointer):\n",
    "            string = string + str(pointer.data) + '\\n'\n",
    "            pointer = pointer.next\n",
    "        return string\n",
    "\n",
    "    def __str__(self) -> str:\n",
    "        return self.__repr__()\n"
   ]
  },
  {
   "attachments": {},
   "cell_type": "markdown",
   "metadata": {},
   "source": []
  },
  {
   "attachments": {},
   "cell_type": "markdown",
   "metadata": {},
   "source": []
  },
  {
   "cell_type": "markdown",
   "metadata": {},
   "source": [
    "#"
   ]
  },
  {
   "attachments": {},
   "cell_type": "markdown",
   "metadata": {},
   "source": [
    "### Inserir no topo da pilha\n"
   ]
  },
  {
   "cell_type": "code",
   "execution_count": null,
   "metadata": {},
   "outputs": [],
   "source": []
  },
  {
   "cell_type": "markdown",
   "metadata": {},
   "source": [
    "# Remover do topo da pilha\n"
   ]
  },
  {
   "attachments": {},
   "cell_type": "markdown",
   "metadata": {},
   "source": [
    "#### Ler o topo da pilha\n"
   ]
  },
  {
   "cell_type": "markdown",
   "metadata": {},
   "source": [
    "## Indicar se a pilha está vazia\n",
    "\n"
   ]
  },
  {
   "cell_type": "markdown",
   "metadata": {},
   "source": [
    "### Retornar o tamanho da pilha\n"
   ]
  },
  {
   "cell_type": "markdown",
   "metadata": {},
   "source": []
  }
 ],
 "metadata": {
  "kernelspec": {
   "display_name": "Python 3",
   "language": "python",
   "name": "python3"
  },
  "language_info": {
   "name": "python",
   "version": "3.8.10"
  },
  "orig_nbformat": 4,
  "vscode": {
   "interpreter": {
    "hash": "31f2aee4e71d21fbe5cf8b01ff0e069b9275f58929596ceb00d14d90e3e16cd6"
   }
  }
 },
 "nbformat": 4,
 "nbformat_minor": 2
}
