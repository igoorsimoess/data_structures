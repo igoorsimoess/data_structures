{
 "cells": [
  {
   "attachments": {},
   "cell_type": "markdown",
   "metadata": {},
   "source": [
    "Graph"
   ]
  },
  {
   "attachments": {},
   "cell_type": "markdown",
   "metadata": {},
   "source": [
    "implementar um Grafo em lista de adjacência e outro em matriz de adjacência. Depois faz o bfs e dfs (busca em largura e em profundidade) pra cada um"
   ]
  },
  {
   "attachments": {},
   "cell_type": "markdown",
   "metadata": {},
   "source": [
    "Definição da estrutura básica do Grafo "
   ]
  },
  {
   "cell_type": "code",
   "execution_count": 173,
   "metadata": {},
   "outputs": [],
   "source": [
    "class Graph_list:\n",
    "\n",
    "    def __init__(self, vertexes) -> None:\n",
    "        self.vertexes = vertexes\n",
    "        # define o grafo como uma lista de adjacências\n",
    "        self.graph = [[] for item in range(self.vertexes)]\n",
    "\n",
    "    def add_aresta(self, u, v):\n",
    "        # grafo direcionado\n",
    "        self.graph[u].append(v) # adiciona uma aresta \n",
    "        # self.graph[v].append(u) # adiciona uma aresta \n",
    "\n",
    "    def show(self):\n",
    "        \"Mostra a estrutura da lista de adjacência e seus respectivos pesos\"\n",
    "        print(\"Lista de Adjacência.\\nLegenda:\\n1º posição - v\\n2º posição - peso (padrão: 1)\")\n",
    "        for line in range(self.vertexes):\n",
    "            print(f'{line}: ', end=\" \")\n",
    "            for col in self.graph[line]:\n",
    "                print(f'{col} -> ', end=\" \")\n",
    "            print()\n",
    "\n",
    "    \n",
    "    # Algoritmo de busca em largura (BFS) para encontrar um caminho\n",
    "    def bfs_path(self, s, t):\n",
    "        visited = [0] * self.vertexes # Inicializa uma lista para rastrear os vértices visitados\n",
    "        fila = []  # Inicializa uma fila vazia para a travessia BFS\n",
    "        caminho = []  # Inicializa uma lista vazia para armazenar o caminho\n",
    "\n",
    "        fila.append(s)  # Adiciona o vértice de origem à fila\n",
    "        visited[s] = 1 # Marca o vértice de origem como visitado\n",
    "\n",
    "        while fila:  # Enquanto a fila não estiver vazia\n",
    "            u = fila.pop(0)  # Desenfileira um vértice da fila\n",
    "            caminho.append(u)\n",
    "\n",
    "            if u == t:\n",
    "                return caminho\n",
    "\n",
    "            for v in self.graph[u]:  # Itera sobre os vértices adjacentes de u\n",
    "                if not visited[v]:  # Se o vértice adjacente v não tiver sido visitado\n",
    "                    visited[v] = 1 # Marca v como visitado\n",
    "                    fila.append(v)  # Enfileira v\n",
    "\n",
    "        return print(\"Um caminho entre os vértices especificados não pode ser encontrado\")  # Retorna uma lista vazia se não houver caminho\n",
    "\n",
    "\n",
    "    # Algoritmo de busca em profundidade (DFS) para encontrar um caminho\n",
    "    def dfs_path(self, s, t):\n",
    "        visited = [0] * self.vertexes # Inicializa uma lista para rastrear os vértices visitados\n",
    "        pilha = []  # Inicializa uma pilha vazia para a travessia DFS\n",
    "        caminho = []  # Inicializa uma lista vazia para armazenar o caminho\n",
    "\n",
    "        pilha.append(s)  # Adiciona o vértice de origem à pilha\n",
    "\n",
    "        while pilha:  # Enquanto a pilha não estiver vazia\n",
    "            u = pilha.pop()  # Desempilha um vértice da pilha\n",
    "            caminho.append(u)\n",
    "\n",
    "            if u == t:\n",
    "                # caminho.append(u)  # Adiciona v ao caminho\n",
    "                return caminho\n",
    "\n",
    "            if not visited[u]:  # Se o vértice desempilhado ainda não tiver sido visitado\n",
    "                visited[u] = 1 # Marca u como visitado\n",
    "\n",
    "                for v in reversed(self.graph[u]):  # Itera sobre os vértices adjacentes de u em ordem reversa\n",
    "                    if not visited[v]:  # Se o vértice adjacente v não tiver sido visitado\n",
    "                        pilha.append(v)  # Empilha v\n",
    "\n",
    "\n",
    "        return print(\"Um caminho entre os vértices especificados não pode ser encontrado\")  # Retorna uma lista vazia se não houver caminho\n",
    "            \n"
   ]
  },
  {
   "cell_type": "code",
   "execution_count": 199,
   "metadata": {},
   "outputs": [
    {
     "name": "stdout",
     "output_type": "stream",
     "text": [
      "Lista de Adjacência.\n",
      "Legenda:\n",
      "1º posição - v\n",
      "2º posição - peso (padrão: 1)\n",
      "0:  1 ->  2 ->  \n",
      "1:  4 ->  3 ->  2 ->  \n",
      "2:  4 ->  \n",
      "3:  5 ->  \n",
      "4:  \n"
     ]
    }
   ],
   "source": [
    "grafo = Graph_list(5)\n",
    "\n",
    "# grafo.add_aresta(1, 2, 2)\n",
    "# grafo.add_aresta(1, 3, 2)\n",
    "# grafo.add_aresta(1, 4, 2)\n",
    "# grafo.add_aresta(1, 5, 2)\n",
    "# grafo.add_aresta(2, 2)\n",
    "\n",
    "grafo.add_aresta(0, 1)\n",
    "grafo.add_aresta(0, 2)\n",
    "grafo.add_aresta(1, 4)\n",
    "grafo.add_aresta(1, 3)\n",
    "grafo.add_aresta(1, 2)\n",
    "grafo.add_aresta(2, 4)\n",
    "grafo.add_aresta(3, 5)\n",
    "\n",
    "\n",
    "grafo.show()"
   ]
  },
  {
   "attachments": {},
   "cell_type": "markdown",
   "metadata": {},
   "source": [
    "Implementação em Matriz de Adjacência"
   ]
  },
  {
   "cell_type": "code",
   "execution_count": 200,
   "metadata": {},
   "outputs": [],
   "source": [
    "class Graph_matrix():\n",
    "    def __init__(self, vertexes) -> None:\n",
    "        self.vertexes = vertexes\n",
    "        self.graph = [[0]*self.vertexes for item in range(self.vertexes)]\n",
    "\n",
    "    def add_aresta(self, u, v):\n",
    "        self.graph[u - 1][v - 1] = 1\n",
    "\n",
    "    def show_matrix(self):\n",
    "        for item in range(self.vertexes):\n",
    "            print(self.graph[item])\n",
    "\n"
   ]
  },
  {
   "cell_type": "code",
   "execution_count": 201,
   "metadata": {},
   "outputs": [
    {
     "name": "stdout",
     "output_type": "stream",
     "text": [
      "[0, 1, 1, 1, 0]\n",
      "[0, 0, 1, 0, 0]\n",
      "[0, 0, 0, 1, 0]\n",
      "[0, 0, 0, 0, 0]\n",
      "[1, 1, 0, 0, 0]\n"
     ]
    }
   ],
   "source": [
    "grafo_matrix = Graph_matrix(5)\n",
    "\n",
    "grafo_matrix.add_aresta(0, 1)\n",
    "grafo_matrix.add_aresta(0, 2)\n",
    "grafo_matrix.add_aresta(1, 2)\n",
    "grafo_matrix.add_aresta(1, 3)\n",
    "grafo_matrix.add_aresta(1, 4)\n",
    "grafo_matrix.add_aresta(2, 3)\n",
    "grafo_matrix.add_aresta(3, 4)\n",
    "\n",
    "\n",
    "grafo_matrix.show_matrix()\n"
   ]
  },
  {
   "cell_type": "code",
   "execution_count": 202,
   "metadata": {},
   "outputs": [
    {
     "data": {
      "text/plain": [
       "[0, 1, 4, 3]"
      ]
     },
     "execution_count": 202,
     "metadata": {},
     "output_type": "execute_result"
    }
   ],
   "source": [
    "grafo.dfs_path(0, 3)"
   ]
  },
  {
   "cell_type": "code",
   "execution_count": 203,
   "metadata": {},
   "outputs": [
    {
     "data": {
      "text/plain": [
       "[0, 1, 2, 4, 3]"
      ]
     },
     "execution_count": 203,
     "metadata": {},
     "output_type": "execute_result"
    }
   ],
   "source": [
    "grafo.bfs_path(0, 3)"
   ]
  },
  {
   "cell_type": "code",
   "execution_count": null,
   "metadata": {},
   "outputs": [],
   "source": []
  }
 ],
 "metadata": {
  "kernelspec": {
   "display_name": "Python 3",
   "language": "python",
   "name": "python3"
  },
  "language_info": {
   "codemirror_mode": {
    "name": "ipython",
    "version": 3
   },
   "file_extension": ".py",
   "mimetype": "text/x-python",
   "name": "python",
   "nbconvert_exporter": "python",
   "pygments_lexer": "ipython3",
   "version": "3.8.10"
  },
  "orig_nbformat": 4
 },
 "nbformat": 4,
 "nbformat_minor": 2
}
